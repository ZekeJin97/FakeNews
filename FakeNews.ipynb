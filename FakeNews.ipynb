{
 "cells": [
  {
   "metadata": {
    "ExecuteTime": {
     "end_time": "2025-02-26T23:51:21.988536Z",
     "start_time": "2025-02-26T23:51:20.260367Z"
    }
   },
   "cell_type": "code",
   "source": [
    "import pandas as pd\n",
    "import string\n",
    "import nltk\n",
    "from nltk.corpus import stopwords\n",
    "from nltk.tokenize import word_tokenize\n",
    "from nltk.stem import PorterStemmer\n",
    "\n",
    "# Download necessary NLTK resources (first-time setup)\n",
    "# nltk.download('stopwords')\n",
    "# nltk.download('punkt')\n",
    "\n",
    "# Load datasets\n",
    "fake_df = pd.read_csv(\"news/Fake.csv\")\n",
    "true_df = pd.read_csv(\"news/True.csv\")\n",
    "\n",
    "# Add labels (1 = Fake, 0 = Real)\n",
    "fake_df[\"label\"] = 1\n",
    "true_df[\"label\"] = 0\n",
    "\n",
    "# Combine datasets and shuffle\n",
    "df = pd.concat([fake_df, true_df], ignore_index=True)\n",
    "df = df.sample(frac=1, random_state=42).reset_index(drop=True)\n"
   ],
   "id": "f5a3dddfea59af6",
   "outputs": [],
   "execution_count": 9
  },
  {
   "metadata": {
    "ExecuteTime": {
     "end_time": "2025-02-27T00:03:11.653198Z",
     "start_time": "2025-02-26T23:51:21.991037Z"
    }
   },
   "cell_type": "code",
   "source": [
    "# Initialize stemmer and stopwords\n",
    "stemmer = PorterStemmer()\n",
    "stop_words = set(stopwords.words('english'))\n",
    "\n",
    "def preprocess_text(text):\n",
    "    # Convert to lowercase\n",
    "    text = text.lower()\n",
    "    # Remove punctuation\n",
    "    text = text.translate(str.maketrans(\"\", \"\", string.punctuation))\n",
    "    # Tokenization\n",
    "    words = word_tokenize(text)\n",
    "    # Remove stopwords\n",
    "    words = [word for word in words if word not in stop_words]\n",
    "    # Stemming (reducing words to root form)\n",
    "    words = [stemmer.stem(word) for word in words]\n",
    "    return \" \".join(words)\n",
    "\n",
    "# Apply preprocessing to dataset\n",
    "df[\"clean_text\"] = df[\"text\"].apply(preprocess_text)\n",
    "\n",
    "# Display sample\n",
    "print(df[[\"text\", \"clean_text\", \"label\"]].head())\n"
   ],
   "id": "1ee724acf559fd43",
   "outputs": [
    {
     "name": "stdout",
     "output_type": "stream",
     "text": [
      "                                                text  \\\n",
      "0  21st Century Wire says Ben Stein, reputable pr...   \n",
      "1  WASHINGTON (Reuters) - U.S. President Donald T...   \n",
      "2  (Reuters) - Puerto Rico Governor Ricardo Rosse...   \n",
      "3  On Monday, Donald Trump once again embarrassed...   \n",
      "4  GLASGOW, Scotland (Reuters) - Most U.S. presid...   \n",
      "\n",
      "                                          clean_text  label  \n",
      "0  21st centuri wire say ben stein reput professo...      1  \n",
      "1  washington reuter us presid donald trump remov...      0  \n",
      "2  reuter puerto rico governor ricardo rossello s...      0  \n",
      "3  monday donald trump embarrass countri accident...      1  \n",
      "4  glasgow scotland reuter us presidenti candid g...      0  \n"
     ]
    }
   ],
   "execution_count": 10
  },
  {
   "metadata": {
    "ExecuteTime": {
     "end_time": "2025-02-27T00:03:16.457539Z",
     "start_time": "2025-02-27T00:03:11.656610Z"
    }
   },
   "cell_type": "code",
   "source": "df.to_csv(\"cleaned_news.csv\", index=False)\n",
   "id": "9c52092e8e07b9c4",
   "outputs": [],
   "execution_count": 11
  },
  {
   "metadata": {
    "ExecuteTime": {
     "end_time": "2025-02-27T00:05:18.965017Z",
     "start_time": "2025-02-27T00:03:16.457539Z"
    }
   },
   "cell_type": "code",
   "source": [
    "import pandas as pd\n",
    "from sklearn.model_selection import train_test_split\n",
    "from sklearn.feature_extraction.text import TfidfVectorizer\n",
    "from sklearn.linear_model import LogisticRegression\n",
    "from sklearn.metrics import accuracy_score, precision_score, recall_score, f1_score\n",
    "\n",
    "# Load preprocessed dataset\n",
    "df = pd.read_csv(\"cleaned_news.csv\")\n",
    "# Drop any rows with NaN values in the text column\n",
    "df = df.dropna(subset=[\"clean_text\"])\n",
    "# Reset index after dropping rows\n",
    "df = df.reset_index(drop=True)\n",
    "\n",
    "print(f\"✅ Cleaned dataset size: {df.shape[0]} samples\")\n",
    "\n",
    "# Split into features (X) and labels (y)\n",
    "X = df[\"clean_text\"]  # Preprocessed text\n",
    "y = df[\"label\"]  # 1 = Fake, 0 = Real\n",
    "\n",
    "# Convert text into TF-IDF vectors\n",
    "vectorizer = TfidfVectorizer(max_features=5000, ngram_range=(1,2))  # Unigrams + Bigrams\n",
    "X_tfidf = vectorizer.fit_transform(X)\n",
    "\n",
    "# Split into training and test sets (80% train, 20% test)\n",
    "X_train, X_test, y_train, y_test = train_test_split(X_tfidf, y, test_size=0.2, random_state=42)\n",
    "\n",
    "print(f\"Training samples: {X_train.shape[0]}, Test samples: {X_test.shape[0]}\")\n"
   ],
   "id": "95492cdfbdd6d535",
   "outputs": [
    {
     "name": "stdout",
     "output_type": "stream",
     "text": [
      "✅ Cleaned dataset size: 44266 samples\n",
      "Training samples: 35412, Test samples: 8854\n"
     ]
    }
   ],
   "execution_count": 12
  },
  {
   "metadata": {
    "ExecuteTime": {
     "end_time": "2025-02-27T00:05:18.982682Z",
     "start_time": "2025-02-27T00:05:18.965017Z"
    }
   },
   "cell_type": "code",
   "source": "",
   "id": "a45cf452354092f1",
   "outputs": [],
   "execution_count": 12
  }
 ],
 "metadata": {
  "kernelspec": {
   "display_name": "Python 3",
   "language": "python",
   "name": "python3"
  },
  "language_info": {
   "codemirror_mode": {
    "name": "ipython",
    "version": 2
   },
   "file_extension": ".py",
   "mimetype": "text/x-python",
   "name": "python",
   "nbconvert_exporter": "python",
   "pygments_lexer": "ipython2",
   "version": "2.7.6"
  }
 },
 "nbformat": 4,
 "nbformat_minor": 5
}
