{
 "cells": [
  {
   "cell_type": "code",
   "id": "initial_id",
   "metadata": {
    "collapsed": true,
    "ExecuteTime": {
     "end_time": "2024-11-11T23:08:11.773597Z",
     "start_time": "2024-11-11T23:08:06.095450Z"
    }
   },
   "source": [
    "import pandas as pd\n",
    "\n",
    "# Load data\n",
    "fake_df = pd.read_csv(\"Fake.csv\")\n",
    "true_df = pd.read_csv(\"True.csv\")\n",
    "\n",
    "# Add a label column to distinguish between fake and real news\n",
    "fake_df['label'] = 'FAKE'\n",
    "true_df['label'] = 'REAL'\n",
    "\n",
    "# Combine the two dataframes\n",
    "combined_df = pd.concat([fake_df, true_df], ignore_index=True)\n",
    "\n",
    "# Preview the combined data\n",
    "print(combined_df.head())\n"
   ],
   "outputs": [
    {
     "name": "stdout",
     "output_type": "stream",
     "text": [
      "                                               title  \\\n",
      "0   Donald Trump Sends Out Embarrassing New Year’...   \n",
      "1   Drunk Bragging Trump Staffer Started Russian ...   \n",
      "2   Sheriff David Clarke Becomes An Internet Joke...   \n",
      "3   Trump Is So Obsessed He Even Has Obama’s Name...   \n",
      "4   Pope Francis Just Called Out Donald Trump Dur...   \n",
      "\n",
      "                                                text subject  \\\n",
      "0  Donald Trump just couldn t wish all Americans ...    News   \n",
      "1  House Intelligence Committee Chairman Devin Nu...    News   \n",
      "2  On Friday, it was revealed that former Milwauk...    News   \n",
      "3  On Christmas day, Donald Trump announced that ...    News   \n",
      "4  Pope Francis used his annual Christmas Day mes...    News   \n",
      "\n",
      "                date label  \n",
      "0  December 31, 2017  FAKE  \n",
      "1  December 31, 2017  FAKE  \n",
      "2  December 30, 2017  FAKE  \n",
      "3  December 29, 2017  FAKE  \n",
      "4  December 25, 2017  FAKE  \n"
     ]
    }
   ],
   "execution_count": 3
  },
  {
   "metadata": {
    "ExecuteTime": {
     "end_time": "2024-11-11T23:21:44.204838Z",
     "start_time": "2024-11-11T23:13:20.218373Z"
    }
   },
   "cell_type": "code",
   "source": [
    "from sklearn.feature_extraction.text import CountVectorizer\n",
    "from sklearn.decomposition import LatentDirichletAllocation\n",
    "\n",
    "#converts the text data into a matrix of token counts and remove stopwords\n",
    "vectorizer = CountVectorizer(stop_words='english')\n",
    "text_data = vectorizer.fit_transform(combined_df['text'])\n",
    "\n",
    "# Fit LDA model\n",
    "lda = LatentDirichletAllocation(n_components=10, random_state=42)\n",
    "lda.fit(text_data)\n",
    "\n",
    "# Display topics and top words\n",
    "n_top_words = 10\n",
    "words = vectorizer.get_feature_names_out()\n",
    "for i, topic in enumerate(lda.components_):\n",
    "    top_words = [words[i] for i in topic.argsort()[-n_top_words:]]\n",
    "    print(f\"Topic #{i}: {' '.join(top_words)}\")\n"
   ],
   "id": "c21b7de33b0031e2",
   "outputs": [
    {
     "name": "stdout",
     "output_type": "stream",
     "text": [
      "Topic #0: lives year man officers women gun black people said police\n",
      "Topic #1: state president reuters military korea states china north united said\n",
      "Topic #2: percent government federal million new house trump state tax said\n",
      "Topic #3: presidential campaign clinton house party election president republican said trump\n",
      "Topic #4: american news wire isis 21st century president war media obama\n",
      "Topic #5: justice judge said state students rights school law people court\n",
      "Topic #6: israel state police year people minister party reuters government said\n",
      "Topic #7: image clinton hillary twitter president like people just donald trump\n",
      "Topic #8: campaign investigation intelligence clinton russian president fbi russia said trump\n",
      "Topic #9: border muslim country states mexico refugees united immigration people said\n"
     ]
    }
   ],
   "execution_count": 6
  },
  {
   "metadata": {},
   "cell_type": "markdown",
   "source": "The 10 topics identified by LDA represent real-world themes pretty well, with topics like social justice, election campaign, foreign policies and global affairs.",
   "id": "7ddd369b50f07f25"
  },
  {
   "metadata": {},
   "cell_type": "markdown",
   "source": "",
   "id": "79ed2e07ccec2202"
  },
  {
   "metadata": {
    "ExecuteTime": {
     "end_time": "2024-11-11T23:48:03.981796Z",
     "start_time": "2024-11-11T23:48:03.910711Z"
    }
   },
   "cell_type": "code",
   "source": [
    "# Map topic numbers to descriptive labels\n",
    "topic_labels = {\n",
    "    0: \"Law enforcement & social issues\",\n",
    "    1: \"International relations\",\n",
    "    2: \"Economic issues\",\n",
    "    3: \"U.S. elections and campaigns\",\n",
    "    4: \"Terrorism and media coverage\",\n",
    "    5: \"Legal matters\",\n",
    "    6: \"Israeli politics and government\",\n",
    "    7: \"Social media and U.S presidents\",\n",
    "    8: \"Intelligence and investigations\",\n",
    "    9: \"Immigration and border security\"\n",
    "}\n",
    "\n",
    "import numpy as np\n",
    "\n",
    "# Display top topics for a document\n",
    "def display_top_topics(document_topics, doc_type, num_top_topics=2):\n",
    "    print(f\"\\n{doc_type} Topic Distributions:\")\n",
    "    for i, dist in enumerate(document_topics):\n",
    "        # Get the indices of the topics sorted by their prevalence (highest to lowest)\n",
    "        top_indices = np.argsort(dist)[-num_top_topics:][::-1]\n",
    "        \n",
    "        # Display the top topics with labels and percentages\n",
    "        print(f\"Document {i+1}:\")\n",
    "        for idx in top_indices:\n",
    "            print(f\"  - {topic_labels[idx]} ({dist[idx]:.2f})\")\n",
    "\n",
    "# Randomly select 5 real and 5 fake news samples\n",
    "real_samples = combined_df[combined_df['label'] == 'REAL'].sample(5, random_state=42)\n",
    "fake_samples = combined_df[combined_df['label'] == 'FAKE'].sample(5, random_state=42)\n",
    "\n",
    "# Transform these samples using the fitted LDA model\n",
    "real_topic_distributions = lda.transform(vectorizer.transform(real_samples['text']))\n",
    "fake_topic_distributions = lda.transform(vectorizer.transform(fake_samples['text']))\n",
    "\n",
    "# Display topic distributions for real news documents with labels\n",
    "display_top_topics(real_topic_distributions, \"Real News\")\n",
    "\n",
    "# Display topic distributions for fake news documents with labels\n",
    "display_top_topics(fake_topic_distributions, \"Fake News\")\n",
    "\n"
   ],
   "id": "3db41d3e5dbe1bae",
   "outputs": [
    {
     "name": "stdout",
     "output_type": "stream",
     "text": [
      "\n",
      "Real News Topic Distributions:\n",
      "Document 1:\n",
      "  - Israeli politics and government (0.68)\n",
      "  - Immigration and border security (0.29)\n",
      "Document 2:\n",
      "  - Immigration and border security (0.40)\n",
      "  - Economic issues (0.31)\n",
      "Document 3:\n",
      "  - International relations (0.43)\n",
      "  - Economic issues (0.32)\n",
      "Document 4:\n",
      "  - Economic issues (0.48)\n",
      "  - Intelligence and investigations (0.29)\n",
      "Document 5:\n",
      "  - U.S. elections and campaigns (0.61)\n",
      "  - Legal matters (0.21)\n",
      "\n",
      "Fake News Topic Distributions:\n",
      "Document 1:\n",
      "  - Immigration and border security (0.10)\n",
      "  - Intelligence and investigations (0.10)\n",
      "Document 2:\n",
      "  - Economic issues (0.70)\n",
      "  - U.S. elections and campaigns (0.25)\n",
      "Document 3:\n",
      "  - Social media and U.S presidents (0.61)\n",
      "  - Legal matters (0.34)\n",
      "Document 4:\n",
      "  - Social media and U.S presidents (0.69)\n",
      "  - U.S. elections and campaigns (0.13)\n",
      "Document 5:\n",
      "  - Intelligence and investigations (0.53)\n",
      "  - U.S. elections and campaigns (0.24)\n"
     ]
    }
   ],
   "execution_count": 9
  },
  {
   "metadata": {},
   "cell_type": "markdown",
   "source": [
    "Topics such as immigration and border policy, international relations and economic issues are prevelant in real news documents.\n",
    "\n",
    "Topics such as social media, U.S elections and campaigns,and investigations are prevelant in fake news documents."
   ],
   "id": "9f9d402db474a844"
  },
  {
   "metadata": {
    "ExecuteTime": {
     "end_time": "2024-11-12T00:00:03.001237Z",
     "start_time": "2024-11-11T23:59:43.945151Z"
    }
   },
   "cell_type": "code",
   "source": [
    "from sklearn.linear_model import LogisticRegression\n",
    "from sklearn.model_selection import train_test_split\n",
    "from sklearn.metrics import accuracy_score\n",
    "\n",
    "# Get LDA vectors for all documents\n",
    "lda_vectors = lda.transform(text_data)\n",
    "\n",
    "# Map labels as binary (1 for REAL, 0 for FAKE)\n",
    "labels = (combined_df['label'] == 'REAL').astype(int)\n",
    "\n",
    "# Split data into train and test sets\n",
    "X_train, X_test, y_train, y_test = train_test_split(lda_vectors, labels, test_size=0.2, random_state=42)\n",
    "\n",
    "# Train the Logistic Regression classifier\n",
    "clf = LogisticRegression(random_state=42)\n",
    "clf.fit(X_train, y_train)\n",
    "\n",
    "# Evaluate the classifier\n",
    "y_pred = clf.predict(X_test)\n",
    "accuracy = accuracy_score(y_test, y_pred)\n",
    "print(f\"Classification Accuracy: {accuracy * 100:.2f}%\")\n"
   ],
   "id": "99156a47239c4f2b",
   "outputs": [
    {
     "name": "stdout",
     "output_type": "stream",
     "text": [
      "Classification Accuracy: 90.45%\n"
     ]
    }
   ],
   "execution_count": 10
  },
  {
   "metadata": {
    "ExecuteTime": {
     "end_time": "2024-11-12T00:00:21.988071Z",
     "start_time": "2024-11-12T00:00:21.956386Z"
    }
   },
   "cell_type": "code",
   "source": [
    "# Display topic coefficients\n",
    "print(\"Topic Coefficients in Logistic Regression:\")\n",
    "for i, coef in enumerate(clf.coef_[0]):\n",
    "    print(f\"Topic {i} ({topic_labels[i]}): {coef:.2f}\")\n"
   ],
   "id": "aac10f3dd01e9108",
   "outputs": [
    {
     "name": "stdout",
     "output_type": "stream",
     "text": [
      "Topic Coefficients in Logistic Regression:\n",
      "Topic 0 (Law enforcement & social issues): -2.24\n",
      "Topic 1 (International relations): 5.23\n",
      "Topic 2 (Economic issues): 2.80\n",
      "Topic 3 (U.S. elections and campaigns): 4.26\n",
      "Topic 4 (Terrorism and media coverage): -9.57\n",
      "Topic 5 (Legal matters): -2.17\n",
      "Topic 6 (Israeli politics and government): 7.99\n",
      "Topic 7 (Social media and U.S presidents): -8.30\n",
      "Topic 8 (Intelligence and investigations): 0.02\n",
      "Topic 9 (Immigration and border security): 1.34\n"
     ]
    }
   ],
   "execution_count": 11
  },
  {
   "metadata": {},
   "cell_type": "markdown",
   "source": "Topics on foreign policies and international relations are often associated with real news, while topics on social media discussion of U.S presidents, terrorism and law enforcement/social issues are often associated with fake news.",
   "id": "21c309bc2e5df177"
  },
  {
   "metadata": {},
   "cell_type": "markdown",
   "source": "",
   "id": "31245b5dbf0aac7d"
  },
  {
   "metadata": {
    "ExecuteTime": {
     "end_time": "2024-11-12T00:40:03.492681Z",
     "start_time": "2024-11-12T00:39:38.765298Z"
    }
   },
   "cell_type": "code",
   "source": [
    "from sklearn.cluster import KMeans\n",
    "\n",
    "# Filter for fake news documents\n",
    "fake_news_df = combined_df[combined_df['label'] == 'FAKE']\n",
    "\n",
    "# Transform fake news documents into LDA topic vectors\n",
    "fake_news_vectors = lda.transform(vectorizer.transform(fake_news_df['text']))\n"
   ],
   "id": "69f6e39e8115bf1",
   "outputs": [],
   "execution_count": 12
  },
  {
   "metadata": {
    "ExecuteTime": {
     "end_time": "2024-11-12T00:42:59.251450Z",
     "start_time": "2024-11-12T00:42:59.172440Z"
    }
   },
   "cell_type": "code",
   "source": [
    "# Apply KMeans clustering with K=10\n",
    "kmeans = KMeans(n_clusters=10, random_state=42)\n",
    "fake_news_df = fake_news_df.copy()\n",
    "fake_news_df.loc[:, 'cluster'] = kmeans.fit_predict(fake_news_vectors)\n",
    "\n",
    "# Display the distribution of documents across clusters\n",
    "print(fake_news_df['cluster'].value_counts())\n"
   ],
   "id": "a70ef30f63640547",
   "outputs": [
    {
     "name": "stdout",
     "output_type": "stream",
     "text": [
      "cluster\n",
      "1    4800\n",
      "8    4684\n",
      "2    2411\n",
      "3    2290\n",
      "5    2082\n",
      "4    1679\n",
      "0    1631\n",
      "6    1615\n",
      "9    1239\n",
      "7    1050\n",
      "Name: count, dtype: int64\n"
     ]
    }
   ],
   "execution_count": 14
  },
  {
   "metadata": {
    "ExecuteTime": {
     "end_time": "2024-11-12T00:43:40.031256Z",
     "start_time": "2024-11-12T00:43:39.984898Z"
    }
   },
   "cell_type": "code",
   "source": [
    "# Display 5 sample documents from each cluster\n",
    "for cluster_num in range(10):\n",
    "    print(f\"\\nCluster {cluster_num}:\")\n",
    "    sample_docs = fake_news_df[fake_news_df['cluster'] == cluster_num].sample(5, random_state=42)['text']\n",
    "    for i, doc in enumerate(sample_docs, start=1):\n",
    "        print(f\"Document {i}: {doc[:200]}...\")  \n"
   ],
   "id": "1d093c6f5a16460a",
   "outputs": [
    {
     "name": "stdout",
     "output_type": "stream",
     "text": [
      "\n",
      "Cluster 0:\n",
      "Document 1: environmental protection agency administrator scott pruitt has received an unprecedented amount of death threats, requiring a 24-hour security detail, according to an editorial published in the wall s...\n",
      "Document 2: in his final act of putting americans dead last, john boehner will stand with democrats in their rabid desire to keep the abortion industry humming. because government funding for baby part harvesting...\n",
      "Document 3: corporations first unfortunately, the poor factory worker in haiti couldn t help hillary or her campaign hillary but just ask her, she ll tell you she s always looking out for the little guy! so much ...\n",
      "Document 4: concerns about trump s conflict of interest reached a new level with the announcement that the national park service is finalizing plans that will give one of his companies $32 million in tax subsidie...\n",
      "Document 5: nothing like riding on your sister s coattails and making bucketloads of cash just because you re a mooch and a grifter like they are. the clinton foundation was nothing but a slush fund for these scu...\n",
      "\n",
      "Cluster 1:\n",
      "Document 1: in case you just woke up, the united states is now at war with syria. it was waged without congressional approval and by a man who ran on a platform of isolationism. now, his isolationist followers ar...\n",
      "Document 2: the  hard working  first family, in need of another taxpayer funded boondoggle, are off to mingle with the elites while snarling traffic for any family unfortunate enough to have saved money for a wee...\n",
      "Document 3:  who is silencing political speech, physically attacking those with divergent views, demanding that every american share one single  ideology. but sadly, the real truth is that these violent agitators...\n",
      "Document 4: remember when people paid attention to arnold scwarzenegger s political opinions? me neither the irrelevant former california governor, washed up hollywood actor and failed apprentice host arnold schw...\n",
      "Document 5: ronald reagan is largely seen as the messiah of the republican party. despite how long it has been since the man was president, he has always remained the high standard of gop morality for potential o...\n",
      "\n",
      "Cluster 2:\n",
      "Document 1: two white guys living in a state where 96% of its residents are white, and who have become extremely wealthy by selling ice cream to the rich, want everyone to know how much they support diversity by ...\n",
      "Document 2: reagan explains why the protesters got out of hand to the reporters:  all of it began the first time some of you who know better and are old enough to know better, let young people think that they had...\n",
      "Document 3: 21st century wire says censorship is running rampant on the world s largest social media website.watch a video of this report here:. former facebook workers have come out with shocking revelations tha...\n",
      "Document 4: the great society $22 trillion, yes, that much has been spent along with so much more to get the black community out of poverty and hopelessness. where are we today? well, it seems we re in the same s...\n",
      "Document 5: five republican presidential hopefuls are scheduled to speak at an ultra-conservative pastor s  religious freedom  event, to prove what the gop believes religious liberty is really about   i.e. bigotr...\n",
      "\n",
      "Cluster 3:\n",
      "Document 1: just another interesting discovery in a story that has already exposed a very corrupt government that favors illegal aliens over american citizens the gun used in the seemingly random slaying of a wom...\n",
      "Document 2: roseberg residents and families of victims are speaking out against obama and are repulsed by his obvious desire to use the deaths and injuries of their loved ones to promote his leftist agenda. of co...\n",
      "Document 3: the first shot against pc tyranny in virginia has been fired!earlier this year, after racist terrorist dylann storm roof was charged with shooting nine black people in a charleston, south carolina, ch...\n",
      "Document 4: all hell broke loose on monday when the city of charlottesville held their first city council meeting since torch-wielding white supremacists took over the small virginia town, leaving a counter-prote...\n",
      "Document 5: obama s america:  why do you think people are leaving (the air force) in droves? what began as a dignified affair quickly turned into an embarrassing scene after a retired air force official was forci...\n",
      "\n",
      "Cluster 4:\n",
      "Document 1: tune in to the alternate current radio network (acr) for another live broadcast of  the boiler room  starting at 6:00 pm pst | 8:00 pm cst | 9:00 pm est for this special broadcast. join us for uncenso...\n",
      "Document 2: actor, activist and one of liberal america s strongest social media advocates george takei has long supported the presidential primary campaign of bernie sanders. but this week, he has delivered a pow...\n",
      "Document 3: senator pat toomey is a staunch republican caught in a close re-election race against kate mcginty in pennsylvania, and he ll apparently do anything to hold on to his seat in that key swing state   in...\n",
      "Document 4: we all remember how on the eve of montana s special election, then-republican candidate greg gianforte made headlines when the guardian s ben jacobs asked him a simple question about the congressional...\n",
      "Document 5: roughly 70% of states use some form of electronic voting machine. the ease with which these machines can be manipulated is stunning donald trump said this week that he fears the election will be  rigg...\n",
      "\n",
      "Cluster 5:\n",
      "Document 1: this is spot on! ned ryun joined tucker carlson to discuss the latest leak regarding ag jeff sessions. do we even have evidence that the source is in fact telling the truth? wapo went ahead and report...\n",
      "Document 2: democratic rep. debbie wasserman schultz seemingly planned to pay cyber-probe suspect and it aide imran awan even while he was living in pakistan, if the fbi hadn t stopped him from leaving the u.s. m...\n",
      "Document 3: there must be something in the water in washington how idiotic are these people? the senate armed services committee has asked for copies of defense secretary ash carter s personal emails after carter...\n",
      "Document 4: special counsel robert mueller appears to have turned something up in his investigation into the trump-russia scandal. the first official charges have been filed according to cnn, and someone may well...\n",
      "Document 5: for the first time, in recent memory at least, the fbi has decided to put its thumb on the scale of the presidential election by releasing maybes, leaks and innuendo against hillary clinton. while a p...\n",
      "\n",
      "Cluster 6:\n",
      "Document 1: the republican senator who gained infamy last year by attempting to sabotage a historic nuclear deal with iran is back at it again   this time by trying to derail a crucial appropriations bill so amer...\n",
      "Document 2:  ...\n",
      "Document 3: according to cnn  uk prime minister theresa may delivered a rare public admonishment to us president donald trump on thursday, declaring that he was  wrong  to share anti-muslim videos posted online b...\n",
      "Document 4:  ...\n",
      "Document 5: sarah palin can hear putin s knees knocking from her front porch president obama addressed news that russian president vladimir putin was sending russian military advisers into syria to bolster the re...\n",
      "\n",
      "Cluster 7:\n",
      "Document 1: president barack obama danced the night away in buenos aires   at a glitzy state dinner alongside argentine president mauricio macri and his first lady juliana awada as part of a two-day state visit. ...\n",
      "Document 2: hey, paul do you hear that huge sucking sound? that s the sound of arrogant elected officials sprinting from washington dc, like us senators jeff flake (r-az) and bob corker (r-tn), as they watch poll...\n",
      "Document 3: mexicans have been given a green light by obama and his regime to enter our country. why shouldn t the drug cartels capitalize on their expansive underground highways?  thanks to obama s open borders ...\n",
      "Document 4: this is the best explanation of why obama and the democrat party are fighting so hard to keep the us state department s refugee resettlement program going strong.  please share this with everyone who ...\n",
      "Document 5: donald trump won t tell you this on his twitter feed.the last time the tourism industry in this country saw such a drop was in the decade after 9/11.and now, trump is the reason why people don t want ...\n",
      "\n",
      "Cluster 8:\n",
      "Document 1: a former saturday night live cast member has just spilled the beans about one of donald trump s secrets.taran killam, who left snl in 2016, completely destroyed trump in an interview published in broo...\n",
      "Document 2: my kids draw bigger crowds at their neighborhood lemonade stands! from gp: she [hillary] will speak at luke easter park at 1:00 pm et.hillary is speaking at the park in 25 minutes with her vice presid...\n",
      "Document 3: george clooney probably gave the folks at the daily beast a coronary when he admitted what everyone has known for months, years hillary didn t have it. ya think? clooney said he believes she wasn t fi...\n",
      "Document 4: vp joe biden:  yeah, i m going to run in 2020.  reporter:  for what?  biden:  for president! what the hell, man? https://t.co/fsrl25ad12 pic.twitter.com/gmco1pkjil  cnn (@cnn) december 6, 2016...\n",
      "Document 5: the tonight show s jimmy fallon debuted his impersonation of senator bernie sanders, and it was hilarious and spot-on. after sander s resounding victory in new hampshire on tuesday, fallon-as-sanders ...\n",
      "\n",
      "Cluster 9:\n",
      "Document 1: this is a shocking story that shines a bright light on obama and his regime s willingness to give terrorists who kill americans special treatment sgt. 1st class christopher speer was killed by a grena...\n",
      "Document 2: this speech, delivered by president ronald reagan on memorial day, epitomizes our debt of gratitude to those who died in battle serving the cause of liberty here in the united states and around the wo...\n",
      "Document 3: hmmm .if we didn t know better, we d almost think obama and valerie jarrett had a hand in writing this whacked out script. don t let some hot-headed member of congress screw this up. ???this propagand...\n",
      "Document 4: has president trump handed over us foreign policy to an elite clique of military generals?rt says:  candidate donald trump ran on a campaign that not only questioned many foreign policy orthodoxies, b...\n",
      "Document 5: a u.s. marine s letter to bernie sanders that expressed the utmost gratitude for the senator s position on not sending u.s. troops to iraq has recently gone viral, and it s easy to see why.the letter ...\n"
     ]
    }
   ],
   "execution_count": 15
  },
  {
   "metadata": {},
   "cell_type": "markdown",
   "source": "The clusters in the fake news documents reveal themes such as attacking democrat party, goverment corruption, social media censorship, anti-Obama sentiment, election frauld, and patriotic/nationalism rhetoric, these are often present in fake news especially those from  reactionary right wing outlets to evoke emotional and ideological biases. This clustering analysis provides insight into the types of content commonly found in fake news and how it aligns with certain themes or agendas.",
   "id": "9e4ea04b1c34ddd6"
  }
 ],
 "metadata": {
  "kernelspec": {
   "display_name": "Python 3",
   "language": "python",
   "name": "python3"
  },
  "language_info": {
   "codemirror_mode": {
    "name": "ipython",
    "version": 2
   },
   "file_extension": ".py",
   "mimetype": "text/x-python",
   "name": "python",
   "nbconvert_exporter": "python",
   "pygments_lexer": "ipython2",
   "version": "2.7.6"
  }
 },
 "nbformat": 4,
 "nbformat_minor": 5
}
